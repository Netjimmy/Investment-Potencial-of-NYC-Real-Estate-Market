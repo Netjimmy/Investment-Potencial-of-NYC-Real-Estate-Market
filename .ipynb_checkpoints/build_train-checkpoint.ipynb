{
 "cells": [
  {
   "cell_type": "code",
   "execution_count": 45,
   "metadata": {
    "collapsed": false
   },
   "outputs": [],
   "source": [
    "import pickle\n",
    "import pandas as pd\n",
    "import numpy as np\n",
    "\n",
    "with open('p_file/data_id.p','rb') as f:\n",
    "    data_id = pickle.load(f)\n",
    "with open('p_file/neighbor.p','rb') as f: #this is a list\n",
    "     neighbor = pickle.load(f)\n",
    "with open('p_file/furman.p','rb') as f:\n",
    "    furman = pickle.load(f)\n",
    "with open('p_file/furman2.p','rb') as f:\n",
    "    furman2 = pickle.load(f)\n",
    "with open('p_file/supply.p','rb') as f:\n",
    "    supply = pickle.load(f)\n"
   ]
  },
  {
   "cell_type": "code",
   "execution_count": 54,
   "metadata": {
    "collapsed": false
   },
   "outputs": [],
   "source": [
    "def define_index_range(upper, lower):\n",
    "    index_avg = pd.read_csv('raw_data/target variable matrix(yearly).csv',index_col=0).values\n",
    "    index_list=[]\n",
    "    for i in index_avg:\n",
    "        for j in i:\n",
    "            if np.isnan(j):\n",
    "                continue\n",
    "            index_list.append(j)\n",
    "    return np.percentile(index_list, upper), np.percentile(index_list, lower) \n",
    "\n",
    "def get_income(year, nei):\n",
    "    return furman[year][data_id[nei]['f1']]['income']\n",
    "def get_local_pop(year, nei):\n",
    "    return furman[year][data_id[nei]['f1']]['local_pop']\n",
    "def get_foreign_pop(year, nei):\n",
    "    return furman[year][data_id[nei]['f1']]['foreign_pop']\n",
    "def get_loan(year, nei):\n",
    "    return furman[year][data_id[nei]['f1']]['loan']\n",
    "def get_vacancy(year, nei):\n",
    "    return furman[year][data_id[nei]['f1']]['vacancy']\n",
    "def get_travel_time(year, nei):\n",
    "    return furman[year][data_id[nei]['f1']]['travel_time']\n",
    "def get_supply(year, nei, month):\n",
    "    if not month:\n",
    "        return 0\n",
    "    else: \n",
    "        sup = supply[year][nei][month]['supply']\n",
    "        if sup:\n",
    "            return sup\n",
    "        else:\n",
    "            return get_supply(year, nei, month-1)\n",
    "def get_crime(year, nei):\n",
    "    return furman2[data_id[nei]['f2']][year]\n",
    "def get_park(nei):\n",
    "    return furman2[data_id[nei]['f2']]['park']\n",
    "def get_sub(nei):\n",
    "    return furman2[data_id[nei]['f2']]['sub']\n",
    "def get_label(year, nei, month, upper, lower):\n",
    "    try:\n",
    "        if not month:\n",
    "            return 0\n",
    "        else:\n",
    "            index = data_id[nei][year][month]['index']\n",
    "            if not index:\n",
    "                return get_label(year, nei, month-1, upper, lower)\n",
    "            elif index <= lower:\n",
    "                return 1\n",
    "            elif index > upper:\n",
    "                return 3\n",
    "            else:\n",
    "                return 2\n",
    "    except:\n",
    "        return 0"
   ]
  },
  {
   "cell_type": "code",
   "execution_count": 55,
   "metadata": {
    "collapsed": false
   },
   "outputs": [],
   "source": [
    "data_pool=[]\n",
    "upper, lower = define_index_range(75, 25)\n",
    "month=12\n",
    "\n",
    "for year in np.arange(2009, 2015):\n",
    "    for nei in neighbor:\n",
    "        label=get_label(year, nei, month, upper, lower)\n",
    "        if not label:\n",
    "            continue\n",
    "        tmp=[]\n",
    "        tmp.append(get_income(year, nei))\n",
    "        tmp.append(get_local_pop(year, nei))\n",
    "        tmp.append(get_foreign_pop(year, nei))\n",
    "        tmp.append(get_loan(year, nei))\n",
    "        tmp.append(get_vacancy(year, nei))\n",
    "        tmp.append(get_travel_time(year, nei))\n",
    "        tmp.append(get_supply(year, nei, month))\n",
    "        tmp.append(get_crime(year, nei))\n",
    "        tmp.append(get_park(nei))\n",
    "        tmp.append(get_sub(nei))\n",
    "        tmp.append(label)\n",
    "        data_pool.append(tmp)\n",
    "        "
   ]
  },
  {
   "cell_type": "code",
   "execution_count": 58,
   "metadata": {
    "collapsed": false,
    "scrolled": true
   },
   "outputs": [],
   "source": [
    "inp = pd.DataFrame(data_pool, columns=['income','local_pop','foreign_pop','loan','vacancy','travel_time','supply',\n",
    "                                 'crime','park','sub','label'])\n",
    "with open('p_file/input.p','wb') as f:\n",
    "    pickle.dump(inp, f)"
   ]
  },
  {
   "cell_type": "code",
   "execution_count": null,
   "metadata": {
    "collapsed": false
   },
   "outputs": [],
   "source": []
  },
  {
   "cell_type": "code",
   "execution_count": null,
   "metadata": {
    "collapsed": true
   },
   "outputs": [],
   "source": []
  }
 ],
 "metadata": {
  "anaconda-cloud": {},
  "kernelspec": {
   "display_name": "Python [default]",
   "language": "python",
   "name": "python3"
  },
  "language_info": {
   "codemirror_mode": {
    "name": "ipython",
    "version": 3
   },
   "file_extension": ".py",
   "mimetype": "text/x-python",
   "name": "python",
   "nbconvert_exporter": "python",
   "pygments_lexer": "ipython3",
   "version": "3.5.2"
  }
 },
 "nbformat": 4,
 "nbformat_minor": 2
}
