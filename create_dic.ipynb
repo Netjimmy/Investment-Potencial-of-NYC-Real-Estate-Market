{
 "cells": [
  {
   "cell_type": "code",
   "execution_count": 4,
   "metadata": {
    "collapsed": true
   },
   "outputs": [],
   "source": [
    "#!/usr/bin/env python\n",
    "# -*- coding: utf-8 -*-\n",
    "import numpy as np\n",
    "import pandas as pd\n",
    "import pickle\n",
    "import math\n",
    "from sklearn import preprocessing"
   ]
  },
  {
   "cell_type": "code",
   "execution_count": 23,
   "metadata": {
    "collapsed": false
   },
   "outputs": [],
   "source": [
    "def supply():\n",
    "    df = pd.read_csv('raw_data/sales_supply.csv', header=0, delimiter=',')\n",
    "    area = df['Area'].tolist()\n",
    "    df = df.drop('Area',1)\n",
    "    df = df.drop('1/1/17',1) #drop data since 2017\n",
    "    df = df.drop('2/1/17',1)\n",
    "    for year in ['15', '16']:\n",
    "        for month in list(range(1, 13)):\n",
    "            df = df.drop(str(month)+'/1/'+year, 1)\n",
    "\n",
    "    column = df.columns \n",
    "    #normalization\n",
    "    np=df.values\n",
    "\n",
    "    normalized=[]\n",
    "    for row in np:\n",
    "        normalized.append(((row-min(row))/(max(row)-min(row)))+1)\n",
    "\n",
    "    #create support dicts\n",
    "    df_normal=pd.DataFrame(data=normalized, columns=column)\n",
    "\n",
    "    supply ={}\n",
    "    for year in list(range(2009, 2015)):\n",
    "        supply[year]={}\n",
    "        for nei in area:\n",
    "            supply[year][nei]={}\n",
    "            for month in list(range(1, 13)):\n",
    "                supply[year][nei][month]={}\n",
    "\n",
    "    for col in column:\n",
    "        tmp_month ={}\n",
    "        col_tmp = df_normal[col].tolist()\n",
    "        year=int(col.split('/')[2])+2000\n",
    "        month=int(col.split('/')[0])\n",
    "        tmp_month={}\n",
    "        for r_idx, ele in enumerate(col_tmp):\n",
    "            if not ele:\n",
    "                tmp_month['supply']= 0\n",
    "            else:\n",
    "                tmp_month['supply']= ele\n",
    "            supply[year][area[r_idx]][month]=tmp_month\n",
    "\n",
    "    with open('p_file/supply.p','wb') as f:\n",
    "        pickle.dump(supply, f)"
   ]
  },
  {
   "cell_type": "code",
   "execution_count": 24,
   "metadata": {
    "collapsed": false
   },
   "outputs": [],
   "source": [
    "supply()"
   ]
  },
  {
   "cell_type": "code",
   "execution_count": 2,
   "metadata": {
    "collapsed": false
   },
   "outputs": [],
   "source": [
    "#create data_id dict\n",
    "def data_id(): \n",
    "    with open('p_file/se2sba.p','rb') as f:\n",
    "        trans = pickle.load(f)\n",
    "    \n",
    "    with open('p_file/supply.p','rb') as f:\n",
    "        supply = pickle.load(f)\n",
    "        \n",
    "    with open('p_file/f1.p','rb') as f:\n",
    "        f1 = pickle.load(f)\n",
    "    \n",
    "    with open('p_file/f2.p','rb') as f:\n",
    "        f2 = pickle.load(f)\n",
    "\n",
    "    target = pd.read_csv('raw_data/target variable matrix_1.csv', header=0, delimiter=',')\n",
    "    area = target['Area'].tolist()\n",
    "    target = target.drop('Area', 1)\n",
    "\n",
    "    column = target.columns\n",
    "\n",
    "    #create dict\n",
    "    data_id ={}\n",
    "    for nei in area:\n",
    "        data_id[nei]={}\n",
    "        for year in list(range(2009, 2015)):\n",
    "            data_id[nei][year]={}\n",
    "            data_id[nei]['sba']=trans[nei]\n",
    "            data_id[nei]['f1']=f1[trans[nei]]\n",
    "            data_id[nei]['f2']=f2[trans[nei]]\n",
    "            for month in list(range(1, 13)):\n",
    "                data_id[nei][year][month]={}\n",
    "\n",
    "    for col in column:\n",
    "        col_tmp = target[col].tolist()\n",
    "        year=int(col.split('/')[2])+2000\n",
    "        month=int(col.split('/')[0])\n",
    "        for r_idx, ele in enumerate(col_tmp):\n",
    "            tmp_month={}\n",
    "            if not ele:\n",
    "                tmp_month['index']= 0\n",
    "            else:\n",
    "                tmp_month['index']= ele\n",
    "            try:\n",
    "                tmp_month['supply']=supply[year][area[r_idx]][month]['supply']\n",
    "            except:\n",
    "                tmp_month['supply']=0\n",
    "            data_id[area[r_idx]][year][month]=tmp_month\n",
    "\n",
    "\n",
    "    # save dict\n",
    "    with open(\"p_file/data_id.p\", \"wb\") as f:\n",
    "        pickle.dump(data_id, f)\n",
    "    with open('p_file/neighbor.p','wb') as f:\n",
    "        pickle.dump(area, f)"
   ]
  },
  {
   "cell_type": "code",
   "execution_count": 5,
   "metadata": {
    "collapsed": false
   },
   "outputs": [],
   "source": [
    "data_id()"
   ]
  },
  {
   "cell_type": "code",
   "execution_count": null,
   "metadata": {
    "collapsed": false
   },
   "outputs": [],
   "source": []
  },
  {
   "cell_type": "code",
   "execution_count": 22,
   "metadata": {
    "collapsed": false
   },
   "outputs": [],
   "source": [
    "local_pop= pd.read_csv('raw_data/sub-borougharea-borninnewyorkstate.csv',header=0, delimiter=',')\n",
    "foreign_pop= pd.read_csv('raw_data/sub-borougharea-foreign-bornpopulation.csv',header=0, delimiter=',')\n",
    "travel_time= pd.read_csv('raw_data/sub-borougharea-meantraveltimetoworkminutes.csv',header=0, delimiter=',')\n",
    "income= pd.read_csv('raw_data/sub-borougharea-medianhouseholdincome2015.csv',header=0, delimiter=',')\n",
    "loan= pd.read_csv('raw_data/sub-borougharea-refinanceloanrateper1000properties.csv',header=0, delimiter=',')\n",
    "vacancy= pd.read_csv('raw_data/sub-borougharea-rentalvacancyrate.csv',header=0, delimiter=',')\n",
    "\n",
    "#sort by area\n",
    "local_pop=local_pop.sort_values(['Sub-Borough Area'])\n",
    "foreign_pop=foreign_pop.sort_values(['Sub-Borough Area'])\n",
    "travel_time=travel_time.sort_values(['Sub-Borough Area'])\n",
    "income=income.sort_values(['Sub-Borough Area'])\n",
    "loan=loan.sort_values(['Sub-Borough Area'])\n",
    "vacancy=vacancy.sort_values(['Sub-Borough Area'])\n",
    "\n",
    "area = local_pop['Sub-Borough Area'].tolist()\n",
    "\n",
    "local_pop=local_pop.drop('Sub-Borough Area', 1).values\n",
    "foreign_pop=foreign_pop.drop('Sub-Borough Area', 1).values\n",
    "travel_time=travel_time.drop('Sub-Borough Area', 1).values\n",
    "income=income.drop('Sub-Borough Area', 1).values\n",
    "loan=loan.drop('Sub-Borough Area', 1).values\n",
    "vacancy=vacancy.drop('Sub-Borough Area', 1).values\n",
    "\n",
    "furman={}\n",
    "for i in range(2009,2015):\n",
    "    tmp_year={}\n",
    "    for r_idx, a in enumerate(area):\n",
    "        if np.isnan(local_pop[r_idx, i-2009]):\n",
    "            local_pop_ele=0\n",
    "        else:\n",
    "            local_pop_ele=local_pop[r_idx, i-2009]\n",
    "        if np.isnan(foreign_pop[r_idx, i-2009]):\n",
    "            foreign_pop_ele=0\n",
    "        else:\n",
    "            foreign_pop_ele=foreign_pop[r_idx, i-2009]\n",
    "        if np.isnan(income[r_idx, i-2009]):\n",
    "            income_ele=0\n",
    "        else:\n",
    "            income_ele=income[r_idx, i-2009]\n",
    "        if np.isnan(travel_time[r_idx, i-2009]):\n",
    "            travel_time_ele=0\n",
    "        else:\n",
    "            travel_time_ele=travel_time[r_idx, i-2009]\n",
    "        if np.isnan(loan[r_idx, i-2009]):\n",
    "            loan_ele=0\n",
    "        else:\n",
    "            loan_ele=loan[r_idx, i-2009]\n",
    "        if np.isnan(vacancy[r_idx, i-2009]):\n",
    "            vacancy_ele=0\n",
    "        else:\n",
    "            vacancy_ele=vacancy[r_idx, i-2009]\n",
    "        \n",
    "        tmp_year[a]={'local_pop':local_pop_ele, 'foreign_pop':foreign_pop_ele,\n",
    "                     'income':income_ele, 'travel_time':travel_time_ele,\n",
    "                     'loan':loan_ele, 'vacancy':vacancy_ele}\n",
    "    furman[i]=tmp_year\n",
    "    \n",
    "with open('p_file/furman.p','wb') as f:\n",
    "    pickle.dump(furman, f)"
   ]
  },
  {
   "cell_type": "code",
   "execution_count": 12,
   "metadata": {
    "collapsed": false
   },
   "outputs": [],
   "source": [
    "park=pd.read_csv('raw_data/communitydistrict-residentialunitswithin14mileofapark.csv', delimiter=',')\n",
    "sub=pd.read_csv('raw_data/communitydistrict-residentialunitswithin12mileofasubwaystation.csv', delimiter=',')\n",
    "crime=pd.read_csv('raw_data/communitydistrict-seriouscrimerateper1000residents.csv')\n",
    "\n",
    "park=park.sort_values(['area'])\n",
    "sub=sub.sort_values(['area'])\n",
    "crime=crime.sort_values(['area'])\n",
    "crime=crime.drop('area',1)\n",
    "column_crime=crime.columns\n",
    "\n",
    "area = park['area'].tolist()\n",
    "area1 =[]\n",
    "\n",
    "furman2={}\n",
    "\n",
    "for idx, ele in enumerate(area):\n",
    "    a=ele.split(' ')[0]+ele.split(' ')[1]\n",
    "    area1.append(a)\n",
    "    furman2[a]={'park':park['index'][idx], 'sub':sub['index'][idx]}\n",
    "    for i in range(2009, 2015):\n",
    "        furman2[a][i]={}\n",
    "        \n",
    "\n",
    "for col in column_crime:\n",
    "    c = crime[col].tolist()\n",
    "    year=int(col)\n",
    "    for r_idx, ele in enumerate(c):\n",
    "        furman2[area1[r_idx]][year]=ele\n",
    "    \n",
    "with open('p_file/furman2.p','wb') as f:\n",
    "    pickle.dump(furman2, f)"
   ]
  },
  {
   "cell_type": "code",
   "execution_count": null,
   "metadata": {
    "collapsed": false
   },
   "outputs": [],
   "source": []
  },
  {
   "cell_type": "code",
   "execution_count": null,
   "metadata": {
    "collapsed": false
   },
   "outputs": [],
   "source": []
  },
  {
   "cell_type": "code",
   "execution_count": null,
   "metadata": {
    "collapsed": true
   },
   "outputs": [],
   "source": []
  }
 ],
 "metadata": {
  "anaconda-cloud": {},
  "kernelspec": {
   "display_name": "Python [default]",
   "language": "python",
   "name": "python3"
  },
  "language_info": {
   "codemirror_mode": {
    "name": "ipython",
    "version": 3
   },
   "file_extension": ".py",
   "mimetype": "text/x-python",
   "name": "python",
   "nbconvert_exporter": "python",
   "pygments_lexer": "ipython3",
   "version": "3.5.2"
  }
 },
 "nbformat": 4,
 "nbformat_minor": 2
}
