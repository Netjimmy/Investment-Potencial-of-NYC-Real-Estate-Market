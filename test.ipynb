{
 "cells": [
  {
   "cell_type": "code",
   "execution_count": 27,
   "metadata": {
    "collapsed": false
   },
   "outputs": [],
   "source": [
    "import pandas as pd\n",
    "import numpy as np\n",
    "import time\n",
    "import pickle\n",
    "import json\n",
    "from datetime import date\n",
    "from geopy.geocoders import Nominatim\n",
    "geolocator = Nominatim()\n"
   ]
  },
  {
   "cell_type": "code",
   "execution_count": 48,
   "metadata": {
    "collapsed": false
   },
   "outputs": [],
   "source": [
    "with open('neighborhoods.geojson') as f:\n",
    "    geo_raw = json.load(f)\n",
    "with open('p_file/se2sba.p', 'rb') as f:\n",
    "    se2sba = pickle.load(f)"
   ]
  },
  {
   "cell_type": "code",
   "execution_count": 97,
   "metadata": {
    "collapsed": false,
    "scrolled": true
   },
   "outputs": [
    {
     "data": {
      "text/plain": [
       "116"
      ]
     },
     "execution_count": 97,
     "metadata": {},
     "output_type": "execute_result"
    }
   ],
   "source": [
    "#geo[\"features\"][0]\n",
    "geolocator = Nominatim()\n",
    "area =set(se2sba.keys())\n",
    "tmp_dict={}\n",
    "count=0\n",
    "\n",
    "for geo in geo_raw['features']:\n",
    "    if(geo['properties']['name'] in area):\n",
    "        #area_a.append(geo['properties']['name'])\n",
    "        count+=1\n",
    "        #location = geolocator.reverse(str(geo['geometry']['coordinates'][1]) +','+ str(geo['geometry']['coordinates'][0]))\n",
    "        #tmp_dict[geo['properties']['name']]=int(location.raw['address']['postcode'])\n",
    "count"
   ]
  },
  {
   "cell_type": "code",
   "execution_count": 88,
   "metadata": {
    "collapsed": false
   },
   "outputs": [],
   "source": [
    "df = pd.DataFrame(list(tmp_dict.items()), columns=['area','zip'])"
   ]
  },
  {
   "cell_type": "code",
   "execution_count": 95,
   "metadata": {
    "collapsed": false
   },
   "outputs": [],
   "source": [
    "df.to_csv('area2zip.csv')"
   ]
  },
  {
   "cell_type": "code",
   "execution_count": 51,
   "metadata": {
    "collapsed": false
   },
   "outputs": [
    {
     "data": {
      "text/plain": [
       "-73.847201"
      ]
     },
     "execution_count": 51,
     "metadata": {},
     "output_type": "execute_result"
    }
   ],
   "source": [
    "'geo[\"features\"][0]['geometry']['coordinates'][0]"
   ]
  },
  {
   "cell_type": "code",
   "execution_count": 96,
   "metadata": {
    "collapsed": false
   },
   "outputs": [
    {
     "data": {
      "text/plain": [
       "139"
      ]
     },
     "execution_count": 96,
     "metadata": {},
     "output_type": "execute_result"
    }
   ],
   "source": []
  },
  {
   "cell_type": "code",
   "execution_count": null,
   "metadata": {
    "collapsed": false
   },
   "outputs": [],
   "source": []
  },
  {
   "cell_type": "code",
   "execution_count": null,
   "metadata": {
    "collapsed": false
   },
   "outputs": [],
   "source": []
  },
  {
   "cell_type": "code",
   "execution_count": 121,
   "metadata": {
    "collapsed": false
   },
   "outputs": [
    {
     "name": "stderr",
     "output_type": "stream",
     "text": [
      "/Users/netjimmy/anaconda/lib/python3.5/site-packages/matplotlib/__init__.py:1357: UserWarning:  This call to matplotlib.use() has no effect\n",
      "because the backend has already been chosen;\n",
      "matplotlib.use() must be called *before* pylab, matplotlib.pyplot,\n",
      "or matplotlib.backends is imported for the first time.\n",
      "\n",
      "  warnings.warn(_use_error_msg)\n"
     ]
    },
    {
     "data": {
      "image/png": "[encoded data removed]",
      "text/plain": [
       "<matplotlib.figure.Figure at 0x118d42da0>"
      ]
     },
     "metadata": {},
     "output_type": "display_data"
    }
   ],
   "source": [
    "import scipy.stats as stats\n",
    "import matplotlib\n",
    "\n",
    "import matplotlib.pyplot as plt\n",
    "matplotlib.use('qt5agg')\n",
    "\n",
    "index_list.sort()\n",
    "\n",
    "fit = stats.norm.pdf(index_list, np.mean(index_list), np.std(index_list))  #this is a fitting indeed\n",
    "\n",
    "pl.plot(index_list,fit,'-o')\n",
    "\n",
    "pl.hist(index_list,normed=True)      #use this to draw histogram of your data\n",
    "\n",
    "\n",
    "\n",
    "pl.show()"
   ]
  },
  {
   "cell_type": "code",
   "execution_count": null,
   "metadata": {
    "collapsed": false
   },
   "outputs": [],
   "source": []
  },
  {
   "cell_type": "code",
   "execution_count": null,
   "metadata": {
    "collapsed": false
   },
   "outputs": [],
   "source": []
  },
  {
   "cell_type": "code",
   "execution_count": 138,
   "metadata": {
    "collapsed": false
   },
   "outputs": [],
   "source": [
    "furman2 = pd.read_csv('raw_data/sbatransform(asking).csv')\n",
    "area=furman2['SBA'].tolist()\n",
    "area2=furman2['CD'].tolist()\n",
    "\n",
    "f2={}\n",
    "for idx, ele in enumerate(area):\n",
    "    f2[ele]=area2[idx]\n",
    "    \n",
    "with open('p_file/f2.p','wb')as f:\n",
    "    pickle.dump(f2, f)"
   ]
  },
  {
   "cell_type": "code",
   "execution_count": 143,
   "metadata": {
    "collapsed": false
   },
   "outputs": [],
   "source": [
    "furman = pd.read_csv('raw_data/sbatransform(furman version).csv')\n",
    "sba=furman['SBA'].tolist()\n",
    "area=furman['Area'].tolist()\n",
    "\n",
    "f={}\n",
    "for idx, ele in enumerate(sba):\n",
    "    f[ele]=area[idx]\n",
    "    \n",
    "with open('p_file/f1.p','wb')as ff:\n",
    "    pickle.dump(f, ff)"
   ]
  },
  {
   "cell_type": "code",
   "execution_count": 7,
   "metadata": {
    "collapsed": false
   },
   "outputs": [],
   "source": [
    "with open('p_file/se2sba.p','rb') as f:\n",
    "    trans = pickle.load(f)\n",
    "\n",
    "with open('p_file/supply.p','rb') as f:\n",
    "    supply = pickle.load(f)\n",
    "\n",
    "with open('p_file/f1.p','rb') as f:\n",
    "    f1 = pickle.load(f)\n",
    "\n",
    "with open('p_file/f2.p','rb') as f:\n",
    "    f2 = pickle.load(f)\n",
    "\n",
    "target = pd.read_csv('raw_data/target variable matrix_1.csv', header=0, delimiter=',')\n",
    "area = target['Area'].tolist()\n",
    "target = target.drop('Area', 1)\n",
    "\n",
    "column = target.columns\n",
    "\n",
    "#create dict\n",
    "data_id ={}\n",
    "\n",
    "for nei in area:\n",
    "    data_id[nei]={}\n",
    "    for year in list(range(2009, 2015)):\n",
    "        data_id[nei][year]={}\n",
    "        data_id[nei]['sba']=trans[nei]\n",
    "        data_id[nei]['f1']=f1[trans[nei]]\n",
    "        data_id[nei]['f2']=f2[trans[nei]]\n",
    "        for month in list(range(1, 13)):\n",
    "            data_id[nei][year][month]={}\n",
    "\n",
    "for col in column:\n",
    "    col_tmp = target[col].tolist()\n",
    "    year=int(col.split('/')[2])+2000\n",
    "    month=int(col.split('/')[0])\n",
    "    for r_idx, ele in enumerate(col_tmp):\n",
    "        tmp_month={}\n",
    "        if not ele:\n",
    "            tmp_month['index']= 0\n",
    "        else:\n",
    "            tmp_month['index']= ele\n",
    "        try:\n",
    "            tmp_month['supply']=supply[year][area[r_idx]][month]['supply']\n",
    "        except:\n",
    "            tmp_month['supply']=0\n",
    "        data_id[area[r_idx]][year][month]=tmp_month\n",
    "\n",
    "# save dict\n",
    "#with open(\"p_file/data_id.p\", \"wb\") as f:\n",
    "#    pickle.dump(data_id, f)\n",
    "#with open('p_file/neighbor.p','wb') as f:\n",
    "#    pickle.dump(area, f)"
   ]
  },
  {
   "cell_type": "code",
   "execution_count": 2,
   "metadata": {
    "collapsed": false
   },
   "outputs": [],
   "source": [
    "with open (\"p_file/input.p\",'rb') as f:\n",
    "    df = pickle.load(f)"
   ]
  },
  {
   "cell_type": "code",
   "execution_count": 3,
   "metadata": {
    "collapsed": true
   },
   "outputs": [],
   "source": [
    "from sklearn.model_selection import ParameterGrid\n",
    "param_grid = {'a': [1, 2], 'b': [True, False]}"
   ]
  },
  {
   "cell_type": "code",
   "execution_count": 4,
   "metadata": {
    "collapsed": false
   },
   "outputs": [
    {
     "data": {
      "text/plain": [
       "{'a': [1, 2], 'b': [True, False]}"
      ]
     },
     "execution_count": 4,
     "metadata": {},
     "output_type": "execute_result"
    }
   ],
   "source": [
    "param_grid"
   ]
  },
  {
   "cell_type": "code",
   "execution_count": 9,
   "metadata": {
    "collapsed": false
   },
   "outputs": [
    {
     "data": {
      "text/plain": [
       "[{'a': 1, 'b': True},\n",
       " {'a': 1, 'b': False},\n",
       " {'a': 2, 'b': True},\n",
       " {'a': 2, 'b': False}]"
      ]
     },
     "execution_count": 9,
     "metadata": {},
     "output_type": "execute_result"
    }
   ],
   "source": [
    "list(ParameterGrid(param_grid))"
   ]
  },
  {
   "cell_type": "code",
   "execution_count": 6,
   "metadata": {
    "collapsed": true
   },
   "outputs": [],
   "source": [
    "grid = [{'kernel': ['linear']}, {'kernel': ['rbf'], 'gamma': [1, 10]}]"
   ]
  },
  {
   "cell_type": "code",
   "execution_count": 10,
   "metadata": {
    "collapsed": false
   },
   "outputs": [
    {
     "data": {
      "text/plain": [
       "[{'kernel': 'linear'},\n",
       " {'gamma': 1, 'kernel': 'rbf'},\n",
       " {'gamma': 10, 'kernel': 'rbf'}]"
      ]
     },
     "execution_count": 10,
     "metadata": {},
     "output_type": "execute_result"
    }
   ],
   "source": [
    "list(ParameterGrid(grid))"
   ]
  },
  {
   "cell_type": "code",
   "execution_count": 11,
   "metadata": {
    "collapsed": false
   },
   "outputs": [
    {
     "data": {
      "text/plain": [
       "{'gamma': 1, 'kernel': 'rbf'}"
      ]
     },
     "execution_count": 11,
     "metadata": {},
     "output_type": "execute_result"
    }
   ],
   "source": [
    "ParameterGrid(grid)[1]"
   ]
  },
  {
   "cell_type": "code",
   "execution_count": null,
   "metadata": {
    "collapsed": true
   },
   "outputs": [],
   "source": []
  }
 ],
 "metadata": {
  "anaconda-cloud": {},
  "kernelspec": {
   "display_name": "Python [default]",
   "language": "python",
   "name": "python3"
  },
  "language_info": {
   "codemirror_mode": {
    "name": "ipython",
    "version": 3
   },
   "file_extension": ".py",
   "mimetype": "text/x-python",
   "name": "python",
   "nbconvert_exporter": "python",
   "pygments_lexer": "ipython3",
   "version": "3.5.2"
  }
 },
 "nbformat": 4,
 "nbformat_minor": 2
}
